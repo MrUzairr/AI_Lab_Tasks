{
 "cells": [
  {
   "cell_type": "markdown",
   "metadata": {
    "id": "99uzECDycBC9"
   },
   "source": [
    "# <center>Artificial Intelligence</center>  <center>Fall 2023</center>\n",
    "## Lab 01\n",
    "#### Name: Muhammad Uzair\n",
    "#### Roll number: 2021-CS-17\n"
   ]
  },
  {
   "cell_type": "markdown",
   "metadata": {
    "id": "oGeXcV1ieX5k"
   },
   "source": [
    "Take weight in kgs and convert it into pounds. 1 pound = 1 kg 2.2046 **(2 marks)**"
   ]
  },
  {
   "cell_type": "code",
   "execution_count": 1,
   "metadata": {
    "id": "kLLZInc9eZX9"
   },
   "outputs": [],
   "source": [
    "## add code here\n",
    "kg = float(input(\"Enter weight in kilograms: \"))\n",
    "pounds = kg * 2.2046\n",
    "print(f\"{kg} kilograms is equal to {pounds} pounds\")\n"
   ]
  },
  {
   "cell_type": "markdown",
   "metadata": {
    "id": "xLXJt74qebph"
   },
   "source": [
    "Calculate the cost of all the items in a shopping cart. **(2 marks)**"
   ]
  },
  {
   "cell_type": "code",
   "execution_count": 2,
   "metadata": {
    "id": "Pd59WwdpehIW"
   },
   "outputs": [],
   "source": [
    "prices =[20,50,80,10,56,89]\n",
    "\n",
    "## add code here\n",
    "prices =[20,50,80,10,56,89]\n",
    "totalCost = sum(prices)\n",
    "print(f\"The total cost of all items in the shopping cart is: ${totalCost}\")"
   ]
  },
  {
   "cell_type": "markdown",
   "metadata": {
    "id": "EGq2J0jeeqF_"
   },
   "source": [
    "Write a function that returns the maximum of two numbers. **(2 marks)**"
   ]
  },
  {
   "cell_type": "code",
   "execution_count": 3,
   "metadata": {
    "id": "joOHP51beunx"
   },
   "outputs": [],
   "source": [
    "## add code here\n",
    "def findMaximum(n1, n2):\n",
    "    if n1 > n2:\n",
    "        return n1\n",
    "    else:\n",
    "        return n2\n",
    "solution = findMaximum(10, 20)\n",
    "print(f\"The maximum number is: {solution}\")"
   ]
  },
  {
   "cell_type": "markdown",
   "metadata": {
    "id": "B8cHTHEYe1em"
   },
   "source": [
    "Write a function called **deepmind** that takes a number  **(4 marks)**\n",
    "* If the number is divisible by 3, it should return deep.\n",
    "* If it is divisible by 5, it should return mind.\n",
    "* If it is divisible by both 3 and 5, it should return deepmind.\n",
    "* Otherwise, it should return the same number.\n",
    "\n",
    "\n"
   ]
  },
  {
   "cell_type": "code",
   "execution_count": 4,
   "metadata": {
    "id": "k7r-_lhqfAtQ"
   },
   "outputs": [],
   "source": [
    "## add code here\n",
    "def deepmind(number):\n",
    "    if number % 3 == 0 and number % 5 == 0:\n",
    "        return \"deepmind\"\n",
    "    elif number % 3 == 0:\n",
    "        return \"deep\"\n",
    "    elif number % 5 == 0:\n",
    "        return \"mind\"\n",
    "    else:\n",
    "        return number\n",
    "\n",
    "result = deepmind(15)\n",
    "print(result) \n",
    "\n",
    "result = deepmind(9)\n",
    "print(result) \n",
    "\n",
    "result = deepmind(10)\n",
    "print(result)\n",
    "\n",
    "result = deepmind(7)\n",
    "print(result)  "
   ]
  },
  {
   "cell_type": "markdown",
   "metadata": {
    "id": "rY5K6INzcGDS"
   },
   "source": [
    "**listA** =  [1,2,3,4,5,6,7,8,9,10]  \n",
    "\n",
    "If an element of **listA** is smaller than 5, replace it with 0. And if an element of x is bigger than 5, replace it with 1. (**2 marks**)"
   ]
  },
  {
   "cell_type": "code",
   "execution_count": 5,
   "metadata": {
    "id": "qEAtvmNycFsQ"
   },
   "outputs": [],
   "source": [
    "## add code here\n",
    "listA = [1, 2, 3, 4, 5, 6, 7, 8, 9, 10]\n",
    "for i in range(len(listA)):\n",
    "    if listA[i] < 5:\n",
    "        listA[i] = 0\n",
    "    elif listA[i] > 5:\n",
    "        listA[i] = 1\n",
    "print(listA)\n"
   ]
  },
  {
   "cell_type": "markdown",
   "metadata": {
    "id": "m5tWGbKxcIug"
   },
   "source": [
    "Compute the square of **listA** elements in one line. (**2 marks**)\n"
   ]
  },
  {
   "cell_type": "code",
   "execution_count": 6,
   "metadata": {
    "id": "ajneZNrXcL0A"
   },
   "outputs": [],
   "source": [
    "listA = [1,2,3,4,5,6,7,8,9,10]\n",
    "## add code here\n",
    "listA = [1, 2, 3, 4, 5, 6, 7, 8, 9, 10]\n",
    "squaredListA = [x**2 for x in listA]\n",
    "print(squaredListA)\n",
    "\n"
   ]
  },
  {
   "cell_type": "markdown",
   "metadata": {
    "id": "vPO_Yx8BcL-Q"
   },
   "source": [
    "Concatenate b1 and b2. (**2 marks**)"
   ]
  },
  {
   "cell_type": "code",
   "execution_count": 7,
   "metadata": {
    "id": "BREFhCCbcPGw"
   },
   "outputs": [],
   "source": [
    "b1 = ['Hello', 'in','first']\n",
    "b2 = ['Students','the','recitation']\n",
    "## add code here\n",
    "concatenatedList = b1 + b2\n",
    "print(concatenatedList)"
   ]
  },
  {
   "cell_type": "markdown",
   "metadata": {
    "id": "ri-m2ia5chLO"
   },
   "source": [
    "Create a dictionary of student **Ali** where the keys are courses and values are total and obtaining marks in each course. Print the dictionary items subjects wise **(2 marks)**"
   ]
  },
  {
   "cell_type": "code",
   "execution_count": 8,
   "metadata": {
    "id": "m8FMBIGbchwa"
   },
   "outputs": [],
   "source": [
    "## add code here\n",
    "aliMarks = {\n",
    "    'Math': {'Total': 100, 'Obtained': 90},\n",
    "    'Science': {'Total': 90, 'Obtained': 85},\n",
    "    'History': {'Total': 80, 'Obtained': 70},\n",
    "    'English': {'Total': 95, 'Obtained': 88}\n",
    "}\n",
    "\n",
    "for subject, marksInfo in aliMarks.items():\n",
    "    print(f\"Subject: {subject}\")\n",
    "    print(f\"Total Marks: {marksInfo['Total']}\")\n",
    "    print(f\"Obtained Marks: {marksInfo['Obtained']}\")\n"
   ]
  },
  {
   "cell_type": "markdown",
   "metadata": {
    "id": "ZylTcdsIclSP"
   },
   "source": [
    "Create a class 'calculator' with the following functions to compute i) addition, ii) subtraction, iii)multiplication, iv)division and v)square\n",
    "between two numbers. **(2 marks)**"
   ]
  },
  {
   "cell_type": "code",
   "execution_count": 9,
   "metadata": {
    "id": "SX_v-PbuclrV"
   },
   "outputs": [],
   "source": [
    "## add code here\n",
    "class Calculator:\n",
    "    def addition(self, n1, n2):\n",
    "        return n1 + n2\n",
    "\n",
    "    def subtraction(self, n1, n2):\n",
    "        return n1 - n2\n",
    "\n",
    "    def multiplication(self, n1, n2):\n",
    "        return n1 * n2\n",
    "\n",
    "    def division(self, n1, n2):\n",
    "        if n2 == 0:\n",
    "            return \"Division by zero is not allowed.\"\n",
    "        else:\n",
    "            return n1 / n2\n",
    "\n",
    "    def square(self, n):\n",
    "        return n ** 2\n",
    "\n",
    "calc = Calculator()\n",
    "\n",
    "resultAdd = calc.addition(5, 3)\n",
    "resultSub = calc.subtraction(10, 4)\n",
    "resultMul = calc.multiplication(6, 2)\n",
    "resultDiv = calc.division(8, 2)\n",
    "resultSquare = calc.square(7)\n",
    "\n",
    "print(f\"Addition: {resultAdd}\")\n",
    "print(f\"Subtraction: {resultSub}\")\n",
    "print(f\"Multiplication: {resultMul}\")\n",
    "print(f\"Division: {resultDiv}\")\n",
    "print(f\"Square: {resultSquare}\")\n"
   ]
  }
 ],
 "metadata": {
  "colab": {
   "provenance": []
  },
  "kernelspec": {
   "display_name": "Python 3 (ipykernel)",
   "language": "python",
   "name": "python3"
  },
  "language_info": {
   "codemirror_mode": {
    "name": "ipython",
    "version": 3
   },
   "file_extension": ".py",
   "mimetype": "text/x-python",
   "name": "python",
   "nbconvert_exporter": "python",
   "pygments_lexer": "ipython3",
   "version": "3.9.7"
  }
 },
 "nbformat": 4,
 "nbformat_minor": 1
}
